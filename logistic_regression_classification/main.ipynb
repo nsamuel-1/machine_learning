{
 "cells": [
  {
   "cell_type": "markdown",
   "id": "9dd88211",
   "metadata": {},
   "source": [
    "# Part 1: Data Exploration & Preparation"
   ]
  },
  {
   "cell_type": "code",
   "execution_count": 62,
   "id": "da73e758",
   "metadata": {},
   "outputs": [],
   "source": [
    "import pandas as pd\n",
    "import numpy as np\n",
    "import seaborn as sns\n",
    "\n",
    "import matplotlib.pyplot as plt\n",
    "\n",
    "from sklearn import datasets\n",
    "from sklearn.model_selection import train_test_split\n",
    "from sklearn.svm import SVC\n",
    "from sklearn.linear_model import LogisticRegression\n",
    "from sklearn.tree import DecisionTreeClassifier\n",
    "from sklearn.model_selection import cross_val_predict\n",
    "from sklearn.metrics import classification_report, confusion_matrix, roc_auc_score\n",
    "from sklearn.preprocessing import StandardScaler\n",
    "from sklearn.model_selection import GridSearchCV"
   ]
  },
  {
   "cell_type": "code",
   "execution_count": 2,
   "id": "9e69c398",
   "metadata": {},
   "outputs": [],
   "source": [
    "titanic_df = sns.load_dataset('titanic')"
   ]
  },
  {
   "cell_type": "code",
   "execution_count": 3,
   "id": "20b8e741",
   "metadata": {},
   "outputs": [
    {
     "name": "stdout",
     "output_type": "stream",
     "text": [
      "survived         0\n",
      "pclass           0\n",
      "sex              0\n",
      "age            177\n",
      "sibsp            0\n",
      "parch            0\n",
      "fare             0\n",
      "embarked         2\n",
      "class            0\n",
      "who              0\n",
      "adult_male       0\n",
      "deck           688\n",
      "embark_town      2\n",
      "alive            0\n",
      "alone            0\n",
      "dtype: int64\n",
      "survived        0.000000\n",
      "pclass          0.000000\n",
      "sex             0.000000\n",
      "age            19.865320\n",
      "sibsp           0.000000\n",
      "parch           0.000000\n",
      "fare            0.000000\n",
      "embarked        0.224467\n",
      "class           0.000000\n",
      "who             0.000000\n",
      "adult_male      0.000000\n",
      "deck           77.216611\n",
      "embark_town     0.224467\n",
      "alive           0.000000\n",
      "alone           0.000000\n",
      "dtype: float64\n"
     ]
    }
   ],
   "source": [
    "null = titanic_df.isnull().sum()\n",
    "null_percentage = (null / len(titanic_df)) * 100\n",
    "\n",
    "print(null)\n",
    "print(null_percentage)"
   ]
  },
  {
   "cell_type": "code",
   "execution_count": 4,
   "id": "ddd07d42",
   "metadata": {},
   "outputs": [
    {
     "data": {
      "text/html": [
       "<div>\n",
       "<style scoped>\n",
       "    .dataframe tbody tr th:only-of-type {\n",
       "        vertical-align: middle;\n",
       "    }\n",
       "\n",
       "    .dataframe tbody tr th {\n",
       "        vertical-align: top;\n",
       "    }\n",
       "\n",
       "    .dataframe thead th {\n",
       "        text-align: right;\n",
       "    }\n",
       "</style>\n",
       "<table border=\"1\" class=\"dataframe\">\n",
       "  <thead>\n",
       "    <tr style=\"text-align: right;\">\n",
       "      <th></th>\n",
       "      <th>survived</th>\n",
       "      <th>pclass</th>\n",
       "      <th>sex</th>\n",
       "      <th>age</th>\n",
       "      <th>sibsp</th>\n",
       "      <th>parch</th>\n",
       "      <th>fare</th>\n",
       "      <th>embarked</th>\n",
       "      <th>class</th>\n",
       "      <th>who</th>\n",
       "      <th>adult_male</th>\n",
       "      <th>embark_town</th>\n",
       "      <th>alive</th>\n",
       "      <th>alone</th>\n",
       "    </tr>\n",
       "  </thead>\n",
       "  <tbody>\n",
       "    <tr>\n",
       "      <th>0</th>\n",
       "      <td>0</td>\n",
       "      <td>3</td>\n",
       "      <td>male</td>\n",
       "      <td>22.0</td>\n",
       "      <td>1</td>\n",
       "      <td>0</td>\n",
       "      <td>7.2500</td>\n",
       "      <td>S</td>\n",
       "      <td>Third</td>\n",
       "      <td>man</td>\n",
       "      <td>True</td>\n",
       "      <td>Southampton</td>\n",
       "      <td>no</td>\n",
       "      <td>False</td>\n",
       "    </tr>\n",
       "    <tr>\n",
       "      <th>1</th>\n",
       "      <td>1</td>\n",
       "      <td>1</td>\n",
       "      <td>female</td>\n",
       "      <td>38.0</td>\n",
       "      <td>1</td>\n",
       "      <td>0</td>\n",
       "      <td>71.2833</td>\n",
       "      <td>C</td>\n",
       "      <td>First</td>\n",
       "      <td>woman</td>\n",
       "      <td>False</td>\n",
       "      <td>Cherbourg</td>\n",
       "      <td>yes</td>\n",
       "      <td>False</td>\n",
       "    </tr>\n",
       "    <tr>\n",
       "      <th>2</th>\n",
       "      <td>1</td>\n",
       "      <td>3</td>\n",
       "      <td>female</td>\n",
       "      <td>26.0</td>\n",
       "      <td>0</td>\n",
       "      <td>0</td>\n",
       "      <td>7.9250</td>\n",
       "      <td>S</td>\n",
       "      <td>Third</td>\n",
       "      <td>woman</td>\n",
       "      <td>False</td>\n",
       "      <td>Southampton</td>\n",
       "      <td>yes</td>\n",
       "      <td>True</td>\n",
       "    </tr>\n",
       "    <tr>\n",
       "      <th>3</th>\n",
       "      <td>1</td>\n",
       "      <td>1</td>\n",
       "      <td>female</td>\n",
       "      <td>35.0</td>\n",
       "      <td>1</td>\n",
       "      <td>0</td>\n",
       "      <td>53.1000</td>\n",
       "      <td>S</td>\n",
       "      <td>First</td>\n",
       "      <td>woman</td>\n",
       "      <td>False</td>\n",
       "      <td>Southampton</td>\n",
       "      <td>yes</td>\n",
       "      <td>False</td>\n",
       "    </tr>\n",
       "    <tr>\n",
       "      <th>4</th>\n",
       "      <td>0</td>\n",
       "      <td>3</td>\n",
       "      <td>male</td>\n",
       "      <td>35.0</td>\n",
       "      <td>0</td>\n",
       "      <td>0</td>\n",
       "      <td>8.0500</td>\n",
       "      <td>S</td>\n",
       "      <td>Third</td>\n",
       "      <td>man</td>\n",
       "      <td>True</td>\n",
       "      <td>Southampton</td>\n",
       "      <td>no</td>\n",
       "      <td>True</td>\n",
       "    </tr>\n",
       "  </tbody>\n",
       "</table>\n",
       "</div>"
      ],
      "text/plain": [
       "   survived  pclass     sex   age  sibsp  parch     fare embarked  class  \\\n",
       "0         0       3    male  22.0      1      0   7.2500        S  Third   \n",
       "1         1       1  female  38.0      1      0  71.2833        C  First   \n",
       "2         1       3  female  26.0      0      0   7.9250        S  Third   \n",
       "3         1       1  female  35.0      1      0  53.1000        S  First   \n",
       "4         0       3    male  35.0      0      0   8.0500        S  Third   \n",
       "\n",
       "     who  adult_male  embark_town alive  alone  \n",
       "0    man        True  Southampton    no  False  \n",
       "1  woman       False    Cherbourg   yes  False  \n",
       "2  woman       False  Southampton   yes   True  \n",
       "3  woman       False  Southampton   yes  False  \n",
       "4    man        True  Southampton    no   True  "
      ]
     },
     "execution_count": 4,
     "metadata": {},
     "output_type": "execute_result"
    }
   ],
   "source": [
    "df_clean = titanic_df.drop(columns=['deck'])\n",
    "df_clean.head()"
   ]
  },
  {
   "cell_type": "code",
   "execution_count": 9,
   "id": "35f7177a",
   "metadata": {},
   "outputs": [
    {
     "name": "stdout",
     "output_type": "stream",
     "text": [
      "sex_who: False\n",
      "adult_male_who: False\n",
      "survived_alive: True\n",
      "class_pclass: True\n",
      "embarked_embark_town: True\n",
      "sex_adult_male: True\n"
     ]
    }
   ],
   "source": [
    "# identify redundant features\n",
    "\n",
    "redundant_pairs = {}\n",
    "\n",
    "redundant_pairs['sex_who'] = titanic_df['sex'].nunique() == titanic_df['who'].nunique()\n",
    "redundant_pairs['adult_male_who'] = titanic_df['adult_male'].nunique() == titanic_df['who'].nunique()\n",
    "redundant_pairs['survived_alive'] = titanic_df['survived'].nunique() == titanic_df['alive'].nunique()\n",
    "redundant_pairs['class_pclass'] = titanic_df['class'].nunique() == titanic_df['pclass'].nunique()\n",
    "redundant_pairs['embarked_embark_town'] = titanic_df['embarked'].nunique() == titanic_df['embark_town'].nunique()\n",
    "redundant_pairs['sex_adult_male'] = titanic_df['sex'].nunique() == titanic_df['adult_male'].nunique()\n",
    "\n",
    "for pair, is_redundant in redundant_pairs.items():\n",
    "    print(f\"{pair}: {is_redundant}\")"
   ]
  },
  {
   "cell_type": "code",
   "execution_count": 8,
   "id": "9f5f2eb7",
   "metadata": {},
   "outputs": [
    {
     "name": "stdout",
     "output_type": "stream",
     "text": [
      " Unique sex: ['male', 'female']\n",
      " Unique who: ['man', 'woman', 'child']\n",
      " Unique adult_male: [True, False]\n",
      " Unique who: ['man', 'woman', 'child']\n"
     ]
    }
   ],
   "source": [
    "# confirm sex_who and adult_male_who are not redundant \n",
    "\n",
    "unique_sex = list(df_clean['sex'].unique())\n",
    "print(f\" Unique sex: {unique_sex}\")\n",
    "\n",
    "unique_who = list(df_clean['who'].unique())\n",
    "print(f\" Unique who: {unique_who}\")\n",
    "\n",
    "unique_adult_male = list(df_clean['adult_male'].unique())\n",
    "print(f\" Unique adult_male: {unique_adult_male}\")\n",
    "\n",
    "unique_who = list(df_clean['who'].unique())\n",
    "print(f\" Unique who: {unique_who}\")\n"
   ]
  },
  {
   "cell_type": "code",
   "execution_count": 13,
   "id": "fb35747b",
   "metadata": {},
   "outputs": [
    {
     "data": {
      "text/html": [
       "<div>\n",
       "<style scoped>\n",
       "    .dataframe tbody tr th:only-of-type {\n",
       "        vertical-align: middle;\n",
       "    }\n",
       "\n",
       "    .dataframe tbody tr th {\n",
       "        vertical-align: top;\n",
       "    }\n",
       "\n",
       "    .dataframe thead th {\n",
       "        text-align: right;\n",
       "    }\n",
       "</style>\n",
       "<table border=\"1\" class=\"dataframe\">\n",
       "  <thead>\n",
       "    <tr style=\"text-align: right;\">\n",
       "      <th></th>\n",
       "      <th>survived</th>\n",
       "      <th>pclass</th>\n",
       "      <th>age</th>\n",
       "      <th>sibsp</th>\n",
       "      <th>parch</th>\n",
       "      <th>fare</th>\n",
       "      <th>who</th>\n",
       "      <th>adult_male</th>\n",
       "      <th>embark_town</th>\n",
       "      <th>alone</th>\n",
       "    </tr>\n",
       "  </thead>\n",
       "  <tbody>\n",
       "    <tr>\n",
       "      <th>0</th>\n",
       "      <td>0</td>\n",
       "      <td>3</td>\n",
       "      <td>22.0</td>\n",
       "      <td>1</td>\n",
       "      <td>0</td>\n",
       "      <td>7.2500</td>\n",
       "      <td>man</td>\n",
       "      <td>True</td>\n",
       "      <td>Southampton</td>\n",
       "      <td>False</td>\n",
       "    </tr>\n",
       "    <tr>\n",
       "      <th>1</th>\n",
       "      <td>1</td>\n",
       "      <td>1</td>\n",
       "      <td>38.0</td>\n",
       "      <td>1</td>\n",
       "      <td>0</td>\n",
       "      <td>71.2833</td>\n",
       "      <td>woman</td>\n",
       "      <td>False</td>\n",
       "      <td>Cherbourg</td>\n",
       "      <td>False</td>\n",
       "    </tr>\n",
       "    <tr>\n",
       "      <th>2</th>\n",
       "      <td>1</td>\n",
       "      <td>3</td>\n",
       "      <td>26.0</td>\n",
       "      <td>0</td>\n",
       "      <td>0</td>\n",
       "      <td>7.9250</td>\n",
       "      <td>woman</td>\n",
       "      <td>False</td>\n",
       "      <td>Southampton</td>\n",
       "      <td>True</td>\n",
       "    </tr>\n",
       "    <tr>\n",
       "      <th>3</th>\n",
       "      <td>1</td>\n",
       "      <td>1</td>\n",
       "      <td>35.0</td>\n",
       "      <td>1</td>\n",
       "      <td>0</td>\n",
       "      <td>53.1000</td>\n",
       "      <td>woman</td>\n",
       "      <td>False</td>\n",
       "      <td>Southampton</td>\n",
       "      <td>False</td>\n",
       "    </tr>\n",
       "    <tr>\n",
       "      <th>4</th>\n",
       "      <td>0</td>\n",
       "      <td>3</td>\n",
       "      <td>35.0</td>\n",
       "      <td>0</td>\n",
       "      <td>0</td>\n",
       "      <td>8.0500</td>\n",
       "      <td>man</td>\n",
       "      <td>True</td>\n",
       "      <td>Southampton</td>\n",
       "      <td>True</td>\n",
       "    </tr>\n",
       "  </tbody>\n",
       "</table>\n",
       "</div>"
      ],
      "text/plain": [
       "   survived  pclass   age  sibsp  parch     fare    who  adult_male  \\\n",
       "0         0       3  22.0      1      0   7.2500    man        True   \n",
       "1         1       1  38.0      1      0  71.2833  woman       False   \n",
       "2         1       3  26.0      0      0   7.9250  woman       False   \n",
       "3         1       1  35.0      1      0  53.1000  woman       False   \n",
       "4         0       3  35.0      0      0   8.0500    man        True   \n",
       "\n",
       "   embark_town  alone  \n",
       "0  Southampton  False  \n",
       "1    Cherbourg  False  \n",
       "2  Southampton   True  \n",
       "3  Southampton  False  \n",
       "4  Southampton   True  "
      ]
     },
     "execution_count": 13,
     "metadata": {},
     "output_type": "execute_result"
    }
   ],
   "source": [
    "# drop redundant columns\n",
    "\n",
    "df_titanic_clean = df_clean.drop(columns=['sex', 'class', 'alive', 'embarked'])\n",
    "df_titanic_clean.head()"
   ]
  },
  {
   "cell_type": "markdown",
   "id": "0e7d64d8",
   "metadata": {},
   "source": [
    "adult_male is engineered from features age and sex, such that if age is greater than or equal to 18, and sex is equal to 'male', then adult_male is True, else adult_male is False"
   ]
  },
  {
   "cell_type": "code",
   "execution_count": 17,
   "id": "9619e882",
   "metadata": {},
   "outputs": [
    {
     "data": {
      "text/html": [
       "<div>\n",
       "<style scoped>\n",
       "    .dataframe tbody tr th:only-of-type {\n",
       "        vertical-align: middle;\n",
       "    }\n",
       "\n",
       "    .dataframe tbody tr th {\n",
       "        vertical-align: top;\n",
       "    }\n",
       "\n",
       "    .dataframe thead th {\n",
       "        text-align: right;\n",
       "    }\n",
       "</style>\n",
       "<table border=\"1\" class=\"dataframe\">\n",
       "  <thead>\n",
       "    <tr style=\"text-align: right;\">\n",
       "      <th></th>\n",
       "      <th>survived</th>\n",
       "      <th>pclass</th>\n",
       "      <th>sex</th>\n",
       "      <th>age</th>\n",
       "      <th>sibsp</th>\n",
       "      <th>parch</th>\n",
       "      <th>fare</th>\n",
       "      <th>who</th>\n",
       "      <th>embark_town</th>\n",
       "      <th>alone</th>\n",
       "    </tr>\n",
       "  </thead>\n",
       "  <tbody>\n",
       "    <tr>\n",
       "      <th>0</th>\n",
       "      <td>0</td>\n",
       "      <td>3</td>\n",
       "      <td>male</td>\n",
       "      <td>22.0</td>\n",
       "      <td>1</td>\n",
       "      <td>0</td>\n",
       "      <td>7.2500</td>\n",
       "      <td>man</td>\n",
       "      <td>Southampton</td>\n",
       "      <td>False</td>\n",
       "    </tr>\n",
       "    <tr>\n",
       "      <th>1</th>\n",
       "      <td>1</td>\n",
       "      <td>1</td>\n",
       "      <td>female</td>\n",
       "      <td>38.0</td>\n",
       "      <td>1</td>\n",
       "      <td>0</td>\n",
       "      <td>71.2833</td>\n",
       "      <td>woman</td>\n",
       "      <td>Cherbourg</td>\n",
       "      <td>False</td>\n",
       "    </tr>\n",
       "    <tr>\n",
       "      <th>2</th>\n",
       "      <td>1</td>\n",
       "      <td>3</td>\n",
       "      <td>female</td>\n",
       "      <td>26.0</td>\n",
       "      <td>0</td>\n",
       "      <td>0</td>\n",
       "      <td>7.9250</td>\n",
       "      <td>woman</td>\n",
       "      <td>Southampton</td>\n",
       "      <td>True</td>\n",
       "    </tr>\n",
       "    <tr>\n",
       "      <th>3</th>\n",
       "      <td>1</td>\n",
       "      <td>1</td>\n",
       "      <td>female</td>\n",
       "      <td>35.0</td>\n",
       "      <td>1</td>\n",
       "      <td>0</td>\n",
       "      <td>53.1000</td>\n",
       "      <td>woman</td>\n",
       "      <td>Southampton</td>\n",
       "      <td>False</td>\n",
       "    </tr>\n",
       "    <tr>\n",
       "      <th>4</th>\n",
       "      <td>0</td>\n",
       "      <td>3</td>\n",
       "      <td>male</td>\n",
       "      <td>35.0</td>\n",
       "      <td>0</td>\n",
       "      <td>0</td>\n",
       "      <td>8.0500</td>\n",
       "      <td>man</td>\n",
       "      <td>Southampton</td>\n",
       "      <td>True</td>\n",
       "    </tr>\n",
       "  </tbody>\n",
       "</table>\n",
       "</div>"
      ],
      "text/plain": [
       "   survived  pclass     sex   age  sibsp  parch     fare    who  embark_town  \\\n",
       "0         0       3    male  22.0      1      0   7.2500    man  Southampton   \n",
       "1         1       1  female  38.0      1      0  71.2833  woman    Cherbourg   \n",
       "2         1       3  female  26.0      0      0   7.9250  woman  Southampton   \n",
       "3         1       1  female  35.0      1      0  53.1000  woman  Southampton   \n",
       "4         0       3    male  35.0      0      0   8.0500    man  Southampton   \n",
       "\n",
       "   alone  \n",
       "0  False  \n",
       "1  False  \n",
       "2   True  \n",
       "3  False  \n",
       "4   True  "
      ]
     },
     "execution_count": 17,
     "metadata": {},
     "output_type": "execute_result"
    }
   ],
   "source": [
    "df_final = df_clean.drop(columns=['adult_male', 'class', 'alive', 'embarked'])\n",
    "df_final.head()"
   ]
  },
  {
   "cell_type": "code",
   "execution_count": 18,
   "id": "3809f858",
   "metadata": {},
   "outputs": [
    {
     "name": "stdout",
     "output_type": "stream",
     "text": [
      "survived    0    1\n",
      "sex               \n",
      "female     81  233\n",
      "male      468  109\n",
      "survived          0          1\n",
      "sex                           \n",
      "female    25.796178  74.203822\n",
      "male      81.109185  18.890815\n"
     ]
    }
   ],
   "source": [
    "# count by sex\n",
    "\n",
    "death_count_sex = df_final.groupby('sex')['survived'].value_counts().unstack()\n",
    "print(death_count_sex)\n",
    "\n",
    "# percentage by sex\n",
    "\n",
    "percent_by_sex = death_count_sex.div(death_count_sex.sum(axis=1), axis=0) * 100\n",
    "print(percent_by_sex)"
   ]
  },
  {
   "cell_type": "code",
   "execution_count": 19,
   "id": "d6174510",
   "metadata": {},
   "outputs": [
    {
     "data": {
      "text/plain": [
       "pclass\n",
       "1    62.962963\n",
       "2    47.282609\n",
       "3    24.236253\n",
       "Name: survived, dtype: float64"
      ]
     },
     "execution_count": 19,
     "metadata": {},
     "output_type": "execute_result"
    }
   ],
   "source": [
    "# survival by passenger class\n",
    "\n",
    "survival_class = df_final.groupby('pclass')['survived'].mean() * 100\n",
    "survival_class"
   ]
  },
  {
   "cell_type": "code",
   "execution_count": 20,
   "id": "0c82eab0",
   "metadata": {},
   "outputs": [
    {
     "data": {
      "text/plain": [
       "count    891.000000\n",
       "mean      32.204208\n",
       "std       49.693429\n",
       "min        0.000000\n",
       "25%        7.910400\n",
       "50%       14.454200\n",
       "75%       31.000000\n",
       "max      512.329200\n",
       "Name: fare, dtype: float64"
      ]
     },
     "execution_count": 20,
     "metadata": {},
     "output_type": "execute_result"
    }
   ],
   "source": [
    "# fare value distribution\n",
    "\n",
    "fare_dist = df_final['fare'].describe()\n",
    "fare_dist"
   ]
  },
  {
   "cell_type": "code",
   "execution_count": 25,
   "id": "803edef8",
   "metadata": {},
   "outputs": [
    {
     "data": {
      "text/plain": [
       "count    714.000000\n",
       "mean      29.699118\n",
       "std       14.526497\n",
       "min        0.420000\n",
       "25%       20.125000\n",
       "50%       28.000000\n",
       "75%       38.000000\n",
       "max       80.000000\n",
       "Name: age, dtype: float64"
      ]
     },
     "execution_count": 25,
     "metadata": {},
     "output_type": "execute_result"
    }
   ],
   "source": [
    "# non-null age value distribution\n",
    "\n",
    "age_no_null = df_final['age'].dropna().describe()\n",
    "age_no_null"
   ]
  },
  {
   "cell_type": "code",
   "execution_count": 26,
   "id": "8aa5bbf4",
   "metadata": {},
   "outputs": [
    {
     "data": {
      "text/plain": [
       "pclass\n",
       "1    37.0\n",
       "2    29.0\n",
       "3    24.0\n",
       "Name: age, dtype: float64"
      ]
     },
     "execution_count": 26,
     "metadata": {},
     "output_type": "execute_result"
    }
   ],
   "source": [
    "# median age by passenger class\n",
    "\n",
    "median_class = df_final.groupby('pclass')['age'].median()\n",
    "median_class"
   ]
  },
  {
   "cell_type": "code",
   "execution_count": 28,
   "id": "9f7da1ae",
   "metadata": {},
   "outputs": [
    {
     "data": {
      "image/png": "[encoded data removed]",
      "text/plain": [
       "<Figure size 720x720 with 1 Axes>"
      ]
     },
     "metadata": {
      "needs_background": "light"
     },
     "output_type": "display_data"
    }
   ],
   "source": [
    "# distribution of age by passenger class\n",
    "\n",
    "plt.figure(figsize=(10, 10))\n",
    "sns.boxplot(x='pclass', y='age', data=df_final)\n",
    "plt.title('Age Distribution by Passenger Class')\n",
    "plt.xlabel('Passenger Class')\n",
    "plt.ylabel('Age')\n",
    "plt.show()"
   ]
  },
  {
   "cell_type": "code",
   "execution_count": 29,
   "id": "be3b7522",
   "metadata": {},
   "outputs": [
    {
     "name": "stdout",
     "output_type": "stream",
     "text": [
      "survived         0\n",
      "pclass           0\n",
      "sex              0\n",
      "age            177\n",
      "sibsp            0\n",
      "parch            0\n",
      "fare             0\n",
      "who              0\n",
      "embark_town      2\n",
      "alone            0\n",
      "dtype: int64\n"
     ]
    }
   ],
   "source": [
    "null_current = df_final.isnull().sum()\n",
    "print(null_current)"
   ]
  },
  {
   "cell_type": "code",
   "execution_count": 31,
   "id": "38457afa",
   "metadata": {},
   "outputs": [
    {
     "name": "stdout",
     "output_type": "stream",
     "text": [
      "0\n"
     ]
    }
   ],
   "source": [
    "impute_age = lambda row: median_class[row['pclass']] if pd.isnull(row['age']) else row['age']\n",
    "\n",
    "df_final['age'] = df_final.apply(impute_age, axis=1)\n",
    "print(df_final['age'].isnull().sum())"
   ]
  },
  {
   "cell_type": "code",
   "execution_count": 32,
   "id": "ee8b4c85",
   "metadata": {},
   "outputs": [
    {
     "name": "stdout",
     "output_type": "stream",
     "text": [
      "survived       0\n",
      "pclass         0\n",
      "sex            0\n",
      "age            0\n",
      "sibsp          0\n",
      "parch          0\n",
      "fare           0\n",
      "who            0\n",
      "embark_town    0\n",
      "alone          0\n",
      "dtype: int64\n"
     ]
    }
   ],
   "source": [
    "df_final = df_final.dropna()\n",
    "print(df_final.isnull().sum())"
   ]
  },
  {
   "cell_type": "code",
   "execution_count": 37,
   "id": "9a09601a",
   "metadata": {},
   "outputs": [
    {
     "data": {
      "text/plain": [
       "889"
      ]
     },
     "execution_count": 37,
     "metadata": {},
     "output_type": "execute_result"
    }
   ],
   "source": [
    "df_final.shape[0]"
   ]
  },
  {
   "cell_type": "code",
   "execution_count": 38,
   "id": "1a5b451b",
   "metadata": {},
   "outputs": [
    {
     "name": "stdout",
     "output_type": "stream",
     "text": [
      "survived         int64\n",
      "pclass           int64\n",
      "sex             object\n",
      "age            float64\n",
      "sibsp            int64\n",
      "parch            int64\n",
      "fare           float64\n",
      "who             object\n",
      "embark_town     object\n",
      "alone             bool\n",
      "dtype: object\n"
     ]
    }
   ],
   "source": [
    "print(df_final.dtypes)"
   ]
  },
  {
   "cell_type": "markdown",
   "id": "54164b5e",
   "metadata": {},
   "source": [
    "Currently sex, who, embark_town & alone are categorical"
   ]
  },
  {
   "cell_type": "markdown",
   "id": "73ef2a86",
   "metadata": {},
   "source": [
    "survived, pclass, sibsp & parch could also be categorical"
   ]
  },
  {
   "cell_type": "code",
   "execution_count": 39,
   "id": "29945d57",
   "metadata": {},
   "outputs": [
    {
     "data": {
      "text/html": [
       "<div>\n",
       "<style scoped>\n",
       "    .dataframe tbody tr th:only-of-type {\n",
       "        vertical-align: middle;\n",
       "    }\n",
       "\n",
       "    .dataframe tbody tr th {\n",
       "        vertical-align: top;\n",
       "    }\n",
       "\n",
       "    .dataframe thead th {\n",
       "        text-align: right;\n",
       "    }\n",
       "</style>\n",
       "<table border=\"1\" class=\"dataframe\">\n",
       "  <thead>\n",
       "    <tr style=\"text-align: right;\">\n",
       "      <th></th>\n",
       "      <th>survived</th>\n",
       "      <th>pclass</th>\n",
       "      <th>age</th>\n",
       "      <th>sibsp</th>\n",
       "      <th>parch</th>\n",
       "      <th>fare</th>\n",
       "      <th>alone</th>\n",
       "      <th>sex_male</th>\n",
       "      <th>who_man</th>\n",
       "      <th>who_woman</th>\n",
       "      <th>embark_town_Queenstown</th>\n",
       "      <th>embark_town_Southampton</th>\n",
       "    </tr>\n",
       "  </thead>\n",
       "  <tbody>\n",
       "    <tr>\n",
       "      <th>0</th>\n",
       "      <td>0</td>\n",
       "      <td>3</td>\n",
       "      <td>22.0</td>\n",
       "      <td>1</td>\n",
       "      <td>0</td>\n",
       "      <td>7.2500</td>\n",
       "      <td>False</td>\n",
       "      <td>1</td>\n",
       "      <td>1</td>\n",
       "      <td>0</td>\n",
       "      <td>0</td>\n",
       "      <td>1</td>\n",
       "    </tr>\n",
       "    <tr>\n",
       "      <th>1</th>\n",
       "      <td>1</td>\n",
       "      <td>1</td>\n",
       "      <td>38.0</td>\n",
       "      <td>1</td>\n",
       "      <td>0</td>\n",
       "      <td>71.2833</td>\n",
       "      <td>False</td>\n",
       "      <td>0</td>\n",
       "      <td>0</td>\n",
       "      <td>1</td>\n",
       "      <td>0</td>\n",
       "      <td>0</td>\n",
       "    </tr>\n",
       "    <tr>\n",
       "      <th>2</th>\n",
       "      <td>1</td>\n",
       "      <td>3</td>\n",
       "      <td>26.0</td>\n",
       "      <td>0</td>\n",
       "      <td>0</td>\n",
       "      <td>7.9250</td>\n",
       "      <td>True</td>\n",
       "      <td>0</td>\n",
       "      <td>0</td>\n",
       "      <td>1</td>\n",
       "      <td>0</td>\n",
       "      <td>1</td>\n",
       "    </tr>\n",
       "    <tr>\n",
       "      <th>3</th>\n",
       "      <td>1</td>\n",
       "      <td>1</td>\n",
       "      <td>35.0</td>\n",
       "      <td>1</td>\n",
       "      <td>0</td>\n",
       "      <td>53.1000</td>\n",
       "      <td>False</td>\n",
       "      <td>0</td>\n",
       "      <td>0</td>\n",
       "      <td>1</td>\n",
       "      <td>0</td>\n",
       "      <td>1</td>\n",
       "    </tr>\n",
       "    <tr>\n",
       "      <th>4</th>\n",
       "      <td>0</td>\n",
       "      <td>3</td>\n",
       "      <td>35.0</td>\n",
       "      <td>0</td>\n",
       "      <td>0</td>\n",
       "      <td>8.0500</td>\n",
       "      <td>True</td>\n",
       "      <td>1</td>\n",
       "      <td>1</td>\n",
       "      <td>0</td>\n",
       "      <td>0</td>\n",
       "      <td>1</td>\n",
       "    </tr>\n",
       "  </tbody>\n",
       "</table>\n",
       "</div>"
      ],
      "text/plain": [
       "   survived  pclass   age  sibsp  parch     fare  alone  sex_male  who_man  \\\n",
       "0         0       3  22.0      1      0   7.2500  False         1        1   \n",
       "1         1       1  38.0      1      0  71.2833  False         0        0   \n",
       "2         1       3  26.0      0      0   7.9250   True         0        0   \n",
       "3         1       1  35.0      1      0  53.1000  False         0        0   \n",
       "4         0       3  35.0      0      0   8.0500   True         1        1   \n",
       "\n",
       "   who_woman  embark_town_Queenstown  embark_town_Southampton  \n",
       "0          0                       0                        1  \n",
       "1          1                       0                        0  \n",
       "2          1                       0                        1  \n",
       "3          1                       0                        1  \n",
       "4          0                       0                        1  "
      ]
     },
     "execution_count": 39,
     "metadata": {},
     "output_type": "execute_result"
    }
   ],
   "source": [
    "# convert categorical features to numeric dummies\n",
    "\n",
    "df_final = pd.get_dummies(df_final, drop_first=True)\n",
    "df_final.head()"
   ]
  },
  {
   "cell_type": "code",
   "execution_count": 40,
   "id": "97c291e6",
   "metadata": {},
   "outputs": [],
   "source": [
    "# test train split\n",
    "\n",
    "x = df_final.drop(columns=['survived'])\n",
    "y = df_final['survived']  # target\n",
    "\n",
    "x_train, x_test, y_train, y_test = train_test_split(x, y, test_size=0.20, stratify=y, random_state=42)"
   ]
  },
  {
   "cell_type": "code",
   "execution_count": 41,
   "id": "746d8102",
   "metadata": {},
   "outputs": [
    {
     "name": "stdout",
     "output_type": "stream",
     "text": [
      "38.24521934758155\n",
      "38.25597749648382\n",
      "38.20224719101123\n"
     ]
    }
   ],
   "source": [
    "# percentage of surviviors maintained \n",
    "\n",
    "total_survival_rate = y.mean() * 100\n",
    "train_survival_rate = y_train.mean() * 100\n",
    "test_survival_rate = y_test.mean() * 100\n",
    "\n",
    "print(total_survival_rate)\n",
    "print(train_survival_rate)\n",
    "print(test_survival_rate)"
   ]
  },
  {
   "cell_type": "markdown",
   "id": "28a92a73",
   "metadata": {},
   "source": [
    "# Part 2: Initial Model Training"
   ]
  },
  {
   "cell_type": "code",
   "execution_count": 48,
   "id": "3eb34ca2",
   "metadata": {},
   "outputs": [],
   "source": [
    "# instantiate models\n",
    "\n",
    "logistic_model = LogisticRegression(random_state=42)\n",
    "svc_model = SVC(probability=True, random_state=42) \n",
    "decision_tree_model = DecisionTreeClassifier(random_state=42)"
   ]
  },
  {
   "cell_type": "code",
   "execution_count": 51,
   "id": "5c033e40",
   "metadata": {},
   "outputs": [
    {
     "name": "stderr",
     "output_type": "stream",
     "text": [
      "/opt/anaconda3/lib/python3.8/site-packages/sklearn/linear_model/_logistic.py:814: ConvergenceWarning: lbfgs failed to converge (status=1):\n",
      "STOP: TOTAL NO. of ITERATIONS REACHED LIMIT.\n",
      "\n",
      "Increase the number of iterations (max_iter) or scale the data as shown in:\n",
      "    https://scikit-learn.org/stable/modules/preprocessing.html\n",
      "Please also refer to the documentation for alternative solver options:\n",
      "    https://scikit-learn.org/stable/modules/linear_model.html#logistic-regression\n",
      "  n_iter_i = _check_optimize_result(\n",
      "/opt/anaconda3/lib/python3.8/site-packages/sklearn/linear_model/_logistic.py:814: ConvergenceWarning: lbfgs failed to converge (status=1):\n",
      "STOP: TOTAL NO. of ITERATIONS REACHED LIMIT.\n",
      "\n",
      "Increase the number of iterations (max_iter) or scale the data as shown in:\n",
      "    https://scikit-learn.org/stable/modules/preprocessing.html\n",
      "Please also refer to the documentation for alternative solver options:\n",
      "    https://scikit-learn.org/stable/modules/linear_model.html#logistic-regression\n",
      "  n_iter_i = _check_optimize_result(\n",
      "/opt/anaconda3/lib/python3.8/site-packages/sklearn/linear_model/_logistic.py:814: ConvergenceWarning: lbfgs failed to converge (status=1):\n",
      "STOP: TOTAL NO. of ITERATIONS REACHED LIMIT.\n",
      "\n",
      "Increase the number of iterations (max_iter) or scale the data as shown in:\n",
      "    https://scikit-learn.org/stable/modules/preprocessing.html\n",
      "Please also refer to the documentation for alternative solver options:\n",
      "    https://scikit-learn.org/stable/modules/linear_model.html#logistic-regression\n",
      "  n_iter_i = _check_optimize_result(\n",
      "/opt/anaconda3/lib/python3.8/site-packages/sklearn/linear_model/_logistic.py:814: ConvergenceWarning: lbfgs failed to converge (status=1):\n",
      "STOP: TOTAL NO. of ITERATIONS REACHED LIMIT.\n",
      "\n",
      "Increase the number of iterations (max_iter) or scale the data as shown in:\n",
      "    https://scikit-learn.org/stable/modules/preprocessing.html\n",
      "Please also refer to the documentation for alternative solver options:\n",
      "    https://scikit-learn.org/stable/modules/linear_model.html#logistic-regression\n",
      "  n_iter_i = _check_optimize_result(\n",
      "/opt/anaconda3/lib/python3.8/site-packages/sklearn/linear_model/_logistic.py:814: ConvergenceWarning: lbfgs failed to converge (status=1):\n",
      "STOP: TOTAL NO. of ITERATIONS REACHED LIMIT.\n",
      "\n",
      "Increase the number of iterations (max_iter) or scale the data as shown in:\n",
      "    https://scikit-learn.org/stable/modules/preprocessing.html\n",
      "Please also refer to the documentation for alternative solver options:\n",
      "    https://scikit-learn.org/stable/modules/linear_model.html#logistic-regression\n",
      "  n_iter_i = _check_optimize_result(\n"
     ]
    }
   ],
   "source": [
    "# probability predictions \n",
    "\n",
    "logistic_prob = cross_val_predict(logistic_model, x_train, y_train, cv=5, method='predict_proba')[:, 1]  \n",
    "svc_prob = cross_val_predict(svc_model, x_train, y_train, cv=5, method='predict_proba')[:, 1]  \n",
    "decision_tree_prob = cross_val_predict(decision_tree_model, x_train, y_train, cv=5, method='predict_proba')[:, 1]  "
   ]
  },
  {
   "cell_type": "code",
   "execution_count": 57,
   "id": "1138f1d5",
   "metadata": {},
   "outputs": [
    {
     "name": "stdout",
     "output_type": "stream",
     "text": [
      "Classification Report for Logistic Regression:\n",
      "              precision    recall  f1-score   support\n",
      "\n",
      "           0       0.84      0.87      0.86       439\n",
      "           1       0.78      0.74      0.76       272\n",
      "\n",
      "    accuracy                           0.82       711\n",
      "   macro avg       0.81      0.81      0.81       711\n",
      "weighted avg       0.82      0.82      0.82       711\n",
      "\n",
      "Confusion Matrix for Logistic Regression:\n",
      "[[383  56]\n",
      " [ 71 201]]\n",
      "\n",
      "ROC-AUC Score for Logistic Regression: 0.8568\n",
      "\n",
      "Classification Report for Support Vector Classifier:\n",
      "              precision    recall  f1-score   support\n",
      "\n",
      "           0       0.68      0.90      0.78       439\n",
      "           1       0.68      0.33      0.44       272\n",
      "\n",
      "    accuracy                           0.68       711\n",
      "   macro avg       0.68      0.62      0.61       711\n",
      "weighted avg       0.68      0.68      0.65       711\n",
      "\n",
      "Confusion Matrix for Support Vector Classifier:\n",
      "[[397  42]\n",
      " [183  89]]\n",
      "\n",
      "ROC-AUC Score for Support Vector Classifier: 0.7481\n",
      "\n",
      "Classification Report for Decision Tree Classifier:\n",
      "              precision    recall  f1-score   support\n",
      "\n",
      "           0       0.84      0.82      0.83       439\n",
      "           1       0.71      0.75      0.73       272\n",
      "\n",
      "    accuracy                           0.79       711\n",
      "   macro avg       0.78      0.78      0.78       711\n",
      "weighted avg       0.79      0.79      0.79       711\n",
      "\n",
      "Confusion Matrix for Decision Tree Classifier:\n",
      "[[358  81]\n",
      " [ 69 203]]\n",
      "\n",
      "ROC-AUC Score for Decision Tree Classifier: 0.7801\n",
      "\n"
     ]
    }
   ],
   "source": [
    "def evaluate_classifier(classifier_name, y_true, y_probs):\n",
    "    \n",
    "    y_pred = np.where(y_probs >= 0.5, 1, 0)\n",
    "    \n",
    "    # classification report\n",
    "    report = classification_report(y_true, y_pred)\n",
    "    print(f\"Classification Report for {classifier_name}:\\n{report}\")\n",
    "\n",
    "    # confusion matrix\n",
    "    cm = confusion_matrix(y_true, y_pred)\n",
    "    print(f\"Confusion Matrix for {classifier_name}:\\n{cm}\\n\")\n",
    "    \n",
    "    # ROC-AUC score\n",
    "    roc_auc = roc_auc_score(y_true, y_probs)\n",
    "    print(f\"ROC-AUC Score for {classifier_name}: {roc_auc:.4f}\\n\")\n",
    "\n",
    "evaluate_classifier(\"Logistic Regression\", y_train, logistic_prob)\n",
    "evaluate_classifier(\"Support Vector Classifier\", y_train, svc_prob)\n",
    "evaluate_classifier(\"Decision Tree Classifier\", y_train, decision_tree_prob)"
   ]
  },
  {
   "cell_type": "markdown",
   "id": "c4438f50",
   "metadata": {},
   "source": [
    "# Part 3: Model Tuning"
   ]
  },
  {
   "cell_type": "code",
   "execution_count": 59,
   "id": "8a7b6065",
   "metadata": {},
   "outputs": [],
   "source": [
    "scaler = StandardScaler()\n",
    "\n",
    "x_train_scale = scaler.fit_transform(x_train)\n",
    "x_test_scale = scaler.transform(x_test)"
   ]
  },
  {
   "cell_type": "code",
   "execution_count": 61,
   "id": "ad933e14",
   "metadata": {},
   "outputs": [
    {
     "name": "stdout",
     "output_type": "stream",
     "text": [
      "Classification Report for Support Vector Classifier:\n",
      "              precision    recall  f1-score   support\n",
      "\n",
      "           0       0.82      0.90      0.86       439\n",
      "           1       0.82      0.69      0.75       272\n",
      "\n",
      "    accuracy                           0.82       711\n",
      "   macro avg       0.82      0.80      0.80       711\n",
      "weighted avg       0.82      0.82      0.82       711\n",
      "\n",
      "Confusion Matrix for Support Vector Classifier:\n",
      "[[397  42]\n",
      " [ 85 187]]\n",
      "\n",
      "ROC-AUC Score for Support Vector Classifier: 0.8417\n",
      "\n"
     ]
    }
   ],
   "source": [
    "svc = SVC(probability=True, random_state=42)\n",
    "\n",
    "svc_prob = cross_val_predict(svc, x_train_scale, y_train, cv=5, method='predict_proba')[:, 1]\n",
    "\n",
    "evaluate_classifier(\"Support Vector Classifier\", y_train, svc_prob)"
   ]
  },
  {
   "cell_type": "markdown",
   "id": "a3b414aa",
   "metadata": {},
   "source": [
    "Evaluation metrics improved after scaling the training data:\n",
    "    - precision: 0.68 unscaled, 0.82 scaled\n",
    "    - recall: 0.33 unscaled, 0.69 scaled\n",
    "    - f1 score: 0.44 unscaled, 0.75 scaled\n",
    "    - accuracy: 0.68 unscaled, 0.82 scaled\n",
    "    - roc-auc: 0.75 unscaled, 0.84 scaled"
   ]
  },
  {
   "cell_type": "code",
   "execution_count": 64,
   "id": "5619c711",
   "metadata": {},
   "outputs": [
    {
     "name": "stdout",
     "output_type": "stream",
     "text": [
      "Best Parameters: {'C': 1, 'gamma': 0.0001, 'kernel': 'rbf'}\n",
      "Best ROC-AUC Score: 0.84984951394826\n"
     ]
    }
   ],
   "source": [
    "param_grid = {\n",
    "    'kernel': ['rbf'],\n",
    "    'gamma': [0.0001, 0.001, 0.01, 0.1, 1],\n",
    "    'C': [1, 10, 50, 100, 200, 300]\n",
    "}\n",
    "\n",
    "svc = SVC(probability=True)\n",
    "\n",
    "grid_search = GridSearchCV(estimator=svc, \n",
    "                           param_grid=param_grid, \n",
    "                           scoring='roc_auc', \n",
    "                           cv=5,\n",
    "                           n_jobs=-1)\n",
    "\n",
    "grid_search.fit(x_train_scale, y_train)\n",
    "\n",
    "print(\"Best Parameters:\", grid_search.best_params_)\n",
    "print(\"Best ROC-AUC Score:\", grid_search.best_score_)"
   ]
  },
  {
   "cell_type": "code",
   "execution_count": 65,
   "id": "4954c53a",
   "metadata": {},
   "outputs": [
    {
     "name": "stdout",
     "output_type": "stream",
     "text": [
      "Classification Report:\n",
      "              precision    recall  f1-score   support\n",
      "\n",
      "           0       0.62      1.00      0.76       110\n",
      "           1       0.00      0.00      0.00        68\n",
      "\n",
      "    accuracy                           0.62       178\n",
      "   macro avg       0.31      0.50      0.38       178\n",
      "weighted avg       0.38      0.62      0.47       178\n",
      "\n",
      "Confusion Matrix:\n",
      "[[110   0]\n",
      " [ 68   0]]\n",
      "ROC-AUC Score: 0.8405080213903743\n"
     ]
    },
    {
     "name": "stderr",
     "output_type": "stream",
     "text": [
      "/opt/anaconda3/lib/python3.8/site-packages/sklearn/metrics/_classification.py:1318: UndefinedMetricWarning: Precision and F-score are ill-defined and being set to 0.0 in labels with no predicted samples. Use `zero_division` parameter to control this behavior.\n",
      "  _warn_prf(average, modifier, msg_start, len(result))\n",
      "/opt/anaconda3/lib/python3.8/site-packages/sklearn/metrics/_classification.py:1318: UndefinedMetricWarning: Precision and F-score are ill-defined and being set to 0.0 in labels with no predicted samples. Use `zero_division` parameter to control this behavior.\n",
      "  _warn_prf(average, modifier, msg_start, len(result))\n",
      "/opt/anaconda3/lib/python3.8/site-packages/sklearn/metrics/_classification.py:1318: UndefinedMetricWarning: Precision and F-score are ill-defined and being set to 0.0 in labels with no predicted samples. Use `zero_division` parameter to control this behavior.\n",
      "  _warn_prf(average, modifier, msg_start, len(result))\n"
     ]
    }
   ],
   "source": [
    "best_svc = grid_search.best_estimator_\n",
    "\n",
    "y_pred = best_svc.predict(x_test_scale)\n",
    "y_pred_proba = best_svc.predict_proba(x_test_scale)[:, 1]\n",
    "\n",
    "# classification report\n",
    "print(\"Classification Report:\")\n",
    "print(classification_report(y_test, y_pred))\n",
    "\n",
    "# confusion matrix\n",
    "conf_matrix = confusion_matrix(y_test, y_pred)\n",
    "print(\"Confusion Matrix:\")\n",
    "print(conf_matrix)\n",
    "\n",
    "# ROC-AUC score\n",
    "roc_auc = roc_auc_score(y_test, y_pred_proba)\n",
    "print(\"ROC-AUC Score:\", roc_auc)"
   ]
  },
  {
   "cell_type": "code",
   "execution_count": null,
   "id": "03e45da8",
   "metadata": {},
   "outputs": [],
   "source": []
  }
 ],
 "metadata": {
  "kernelspec": {
   "display_name": "Python 3 (ipykernel)",
   "language": "python",
   "name": "python3"
  },
  "language_info": {
   "codemirror_mode": {
    "name": "ipython",
    "version": 3
   },
   "file_extension": ".py",
   "mimetype": "text/x-python",
   "name": "python",
   "nbconvert_exporter": "python",
   "pygments_lexer": "ipython3",
   "version": "3.8.8"
  }
 },
 "nbformat": 4,
 "nbformat_minor": 5
}
